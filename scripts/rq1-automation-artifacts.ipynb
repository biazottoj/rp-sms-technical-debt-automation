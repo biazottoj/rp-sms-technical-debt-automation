{
 "cells": [
  {
   "cell_type": "markdown",
   "id": "2ddd64c3",
   "metadata": {},
   "source": [
    "# RQ1 - What software artifacts are available for the automation of TD management?"
   ]
  },
  {
   "cell_type": "code",
   "execution_count": null,
   "id": "2b5324c1",
   "metadata": {
    "tags": []
   },
   "outputs": [],
   "source": [
    "import pandas as pd\n",
    "import numpy as np\n",
    "import matplotlib.pyplot as plt\n",
    "\n",
    "\n",
    "path = '../data/studies-and-artifacts.json'\n",
    "\n",
    "artifacts_df = pd.read_json(path, orient='index')\n",
    "\n",
    "tdma_list = ['repayment',\n",
    "            'monitoring',\n",
    "            'measurement',\n",
    "            'identification',\n",
    "            'communication',\n",
    "            'prevention',\n",
    "            'priorization',\n",
    "            'representation/documentation']\n",
    "\n",
    "td_types_list = ['code',\n",
    "                 'design',\n",
    "                 'architectural',\n",
    "                 'test',\n",
    "                 'documentation',\n",
    "                 'requirements',\n",
    "                 'build',\n",
    "                 'infrastructure',\n",
    "                 'versioning',\n",
    "                 'satd']\n",
    "\n",
    "def to_1D(series):\n",
    " return pd.Series([x for _list in series for x in _list])"
   ]
  },
  {
   "cell_type": "markdown",
   "id": "a9b6304b",
   "metadata": {},
   "source": [
    "### RQ1.1 - What is the type of software of the artifact (e.g., script, tool, library)?"
   ]
  },
  {
   "cell_type": "code",
   "execution_count": null,
   "id": "ed3858d4",
   "metadata": {
    "tags": []
   },
   "outputs": [],
   "source": [
    "#Software Types\n",
    "artifacts_df.loc[:,['type', 'name']].groupby('type').count().sort_values(by='name', ascending=False)"
   ]
  },
  {
   "cell_type": "code",
   "execution_count": null,
   "id": "19e9fb22-65d6-416b-a1b7-d4841ea25dcf",
   "metadata": {
    "tags": []
   },
   "outputs": [],
   "source": [
    "# Number of plugins that are versions of tools\n",
    "values = artifacts_df.loc[:,['type', 'name']].groupby('name').count()\n",
    "len(values.loc[values['type'] > 1])"
   ]
  },
  {
   "cell_type": "markdown",
   "id": "0503a5cb-ed71-4f75-b59a-a74ed0f057f9",
   "metadata": {},
   "source": [
    "#### Relation between artifacts types and TDM Activities"
   ]
  },
  {
   "cell_type": "code",
   "execution_count": null,
   "id": "81798d89-0d61-4739-80df-2cf79c2d197b",
   "metadata": {},
   "outputs": [],
   "source": [
    "tdma = to_1D(artifacts_df['tdma']).value_counts().sort_values(ascending = False).index.to_list()\n",
    "columns = ['id']\n",
    "columns.extend(tdma)\n",
    "columns.extend(['tool', 'plugin', 'script', 'bot'])\n",
    "\n",
    "rows = []\n",
    "\n",
    "for i in artifacts_df.index:\n",
    "  r = []\n",
    "  r.append(i)\n",
    "  for a in tdma:\n",
    "    if a in artifacts_df['tdma'][i]:\n",
    "      r.append(True)\n",
    "    else:\n",
    "      r.append(False)\n",
    "  for tt in ['tool', 'plugin', 'script', 'bot']:\n",
    "      if tt == artifacts_df['type'][i]:\n",
    "          r.append(True)\n",
    "      else:\n",
    "          r.append(False)\n",
    "          \n",
    "  rows.append(r)\n",
    "\n",
    "type_tdma = pd.DataFrame(rows, columns=columns)\n",
    "\n",
    "type_TTD = {}\n",
    "\n",
    "for tda in tdma:\n",
    "    type_TTD[tda] = {}\n",
    "    for tt in ['tool', 'plugin', 'script', 'bot']:\n",
    "        type_TTD[tda][tt] = len(type_tdma.loc[(type_tdma[tt] == True) & (type_tdma[tda] == True)])\n",
    "\n",
    "columns = ['type']\n",
    "columns.extend(tdma)\n",
    "\n",
    "rows = []\n",
    "for tdt in ['tool', 'plugin', 'script', 'bot']:\n",
    "    r = []\n",
    "    r.append(tdt)\n",
    "    for k, tda in type_TTD.items():\n",
    "        r.append(tda[tdt])\n",
    "    rows.append(r)\n",
    "new_df = pd.DataFrame(rows, columns=columns) \n",
    "new_df.to_csv('../data/rq1-artifacts-type-per-tdma.csv')"
   ]
  },
  {
   "cell_type": "code",
   "execution_count": null,
   "id": "6b77f57a",
   "metadata": {},
   "outputs": [],
   "source": [
    "tdt = td_types_list\n",
    "columns = ['id']\n",
    "columns.extend(tdt)\n",
    "columns.extend(['tool', 'plugin', 'script', 'bot'])\n",
    "\n",
    "rows = []\n",
    "\n",
    "for i in artifacts_df.index:\n",
    "  r = []\n",
    "  r.append(i)\n",
    "  for a in tdt:\n",
    "    if a in artifacts_df['td_type'][i]:\n",
    "      r.append(True)\n",
    "    else:\n",
    "      r.append(False)\n",
    "  for tt in ['tool', 'plugin', 'script', 'bot']:\n",
    "      if tt == artifacts_df['type'][i]:\n",
    "          r.append(True)\n",
    "      else:\n",
    "          r.append(False)\n",
    "          \n",
    "  rows.append(r)\n",
    "\n",
    "type_tdt = pd.DataFrame(rows, columns=columns)\n",
    "\n",
    "type_TTD = {}\n",
    "\n",
    "for td in tdt:\n",
    "    type_TTD[td] = {}\n",
    "    for tt in ['tool', 'plugin', 'script', 'bot']:\n",
    "        type_TTD[td][tt] = len(type_tdt.loc[(type_tdt[tt] == True) & (type_tdt[td] == True)])\n",
    "\n",
    "columns = ['type']\n",
    "columns.extend(tdt)\n",
    "\n",
    "rows = []\n",
    "for td in ['tool', 'plugin', 'script', 'bot']:\n",
    "    r = []\n",
    "    r.append(td)\n",
    "    for k, tdt in type_TTD.items():\n",
    "        r.append(tdt[td])\n",
    "    rows.append(r)\n",
    "    \n",
    "new_df = pd.DataFrame(rows, columns=columns) \n",
    "new_df.to_csv('../data/rq1-artifacts-type-per-input-info.csv')"
   ]
  },
  {
   "cell_type": "code",
   "execution_count": null,
   "id": "b1767d05-5064-410e-a9fa-8dc6b2db73c7",
   "metadata": {},
   "outputs": [],
   "source": [
    "tdma = to_1D(artifacts_df['input_info']).value_counts().sort_values(ascending = False).index.to_list()\n",
    "columns = ['id']\n",
    "columns.extend(tdma)\n",
    "columns.extend(td_types_list)\n",
    "\n",
    "rows = []\n",
    "\n",
    "for i in artifacts_df.index:\n",
    "  r = []\n",
    "  r.append(i)\n",
    "  for a in tdma:\n",
    "    if a in artifacts_df['input_info'][i]:\n",
    "      r.append(True)\n",
    "    else:\n",
    "      r.append(False)\n",
    "  for tt in td_types_list:\n",
    "      if tt in artifacts_df['td_type'][i]:\n",
    "          r.append(True)\n",
    "      else:\n",
    "          r.append(False)\n",
    "          \n",
    "  rows.append(r)\n",
    "\n",
    "type_tdma = pd.DataFrame(rows, columns=columns)\n",
    "\n",
    "type_TTD = {}\n",
    "\n",
    "for tda in tdma:\n",
    "    type_TTD[tda] = {}\n",
    "    for tt in td_types_list:\n",
    "        type_TTD[tda][tt] = len(type_tdma.loc[(type_tdma[tt] == True) & (type_tdma[tda] == True)])\n",
    "\n",
    "columns = ['type']\n",
    "columns.extend(tdma)\n",
    "\n",
    "rows = []\n",
    "for tdt in td_types_list:\n",
    "    r = []\n",
    "    r.append(tdt)\n",
    "    for k, tda in type_TTD.items():\n",
    "        r.append(tda[tdt])\n",
    "    rows.append(r)\n",
    "new_df = pd.DataFrame(rows, columns=columns) \n",
    "new_df.to_csv('../data/rq1-artifacts-type-per-input-info.csv')"
   ]
  },
  {
   "cell_type": "markdown",
   "id": "534ffe45",
   "metadata": {},
   "source": [
    "### RQ1.2 - What are the inputs and outputs of the artifact?"
   ]
  },
  {
   "cell_type": "code",
   "execution_count": null,
   "id": "780774ee",
   "metadata": {
    "tags": []
   },
   "outputs": [],
   "source": [
    "input_info = to_1D(artifacts_df['input_info']).value_counts()\n",
    "\n",
    "width = 0.25\n",
    "x_pos = [0 + (2* x * width) for x in range(len(input_info))]\n",
    "\n",
    "plt.rcParams[\"figure.figsize\"] = (5,4)\n",
    "fig, ax = plt.subplots(layout='tight')\n",
    "ax.bar(x_pos, height=input_info, width = width, color = 'grey')\n",
    "\n",
    "ax.spines['top'].set_visible(False)\n",
    "ax.spines['right'].set_visible(False)\n",
    "ax.spines['bottom'].set_visible(True)\n",
    "ax.spines['left'].set_visible(False)\n",
    "\n",
    "scale = 30\n",
    "\n",
    "ax.set_ylim([0,scale])\n",
    "ax.set_yticks([])\n",
    "\n",
    "for index, value in enumerate(input_info):\n",
    "    if value > 100:\n",
    "        factor = 0.5\n",
    "    elif value > 10:\n",
    "        factor = 0.32\n",
    "    else:\n",
    "        factor = 0.2\n",
    "        \n",
    "    ax.text(x_pos[index] - factor * width, value + 1 if value <= scale else scale + 1,\n",
    "             str(value))\n",
    "\n",
    "plt.xticks(x_pos, input_info.index, rotation=30, ha='right')\n",
    "plt.savefig('../figures/rq1-inuput-info.pdf', bbox_inches='tight')"
   ]
  },
  {
   "cell_type": "code",
   "execution_count": null,
   "id": "4da4a0f9",
   "metadata": {
    "tags": []
   },
   "outputs": [],
   "source": [
    "input_format = to_1D(artifacts_df['input_fmt']).value_counts()\n",
    "width = 0.25\n",
    "x_pos = [0 + (2* x * width) for x in range(len(input_format))]\n",
    "\n",
    "plt.rcParams[\"figure.figsize\"] = (5,4)\n",
    "fig, ax = plt.subplots(layout='tight')\n",
    "ax.bar(x_pos, height=input_format, width = width, color = 'grey')\n",
    "\n",
    "ax.spines['top'].set_visible(False)\n",
    "ax.spines['right'].set_visible(False)\n",
    "ax.spines['bottom'].set_visible(True)\n",
    "ax.spines['left'].set_visible(False)\n",
    "\n",
    "scale = 30\n",
    "\n",
    "ax.set_ylim([0,scale])\n",
    "ax.set_yticks([])\n",
    "\n",
    "for index, value in enumerate(input_format):\n",
    "    if value > 100:\n",
    "        factor = 0.5\n",
    "    elif value > 10:\n",
    "        factor = 0.32\n",
    "    else:\n",
    "        factor = 0.2\n",
    "        \n",
    "    ax.text(x_pos[index] - factor * width, value + 1 if value <= scale else scale + 1,\n",
    "             str(value))\n",
    "\n",
    "    \n",
    "fmts = ['source code', 'json', 'csv', 'uml', 'graphml', 'sql', 'issues', 'xml']    \n",
    "plt.xticks(x_pos, fmts, rotation=30, ha='right')\n",
    "plt.savefig('../figures/rq1-inuput-fmt.pdf', bbox_inches='tight')"
   ]
  },
  {
   "cell_type": "code",
   "execution_count": null,
   "id": "c0449b05",
   "metadata": {
    "tags": []
   },
   "outputs": [],
   "source": [
    "#Output Info\n",
    "output_info = to_1D(artifacts_df['output_info']).value_counts()\n",
    "pd.DataFrame(output_info.items(), columns=['output-info','n-artifacts']).to_csv('../data/rq1-output-infos.csv')\n",
    "print(output_info)"
   ]
  },
  {
   "cell_type": "code",
   "execution_count": null,
   "id": "eb72c030",
   "metadata": {
    "tags": []
   },
   "outputs": [],
   "source": [
    "#Output Formats\n",
    "output_fmts = to_1D(artifacts_df['output_fmt']).value_counts()\n",
    "pd.DataFrame(output_fmts.items(), columns=['output-fmt','n-artifacts']).to_csv('../data/rq1-output-fmts.csv')\n",
    "print(output_fmts)"
   ]
  },
  {
   "cell_type": "markdown",
   "id": "f9241821",
   "metadata": {},
   "source": [
    "### RQ1.3 - Which is the maturity level of the software artifact?"
   ]
  },
  {
   "cell_type": "code",
   "execution_count": null,
   "id": "d0d36227",
   "metadata": {
    "tags": []
   },
   "outputs": [],
   "source": [
    "# Maturity\n",
    "artifacts_df.loc[:,['maturity', 'name']].groupby(['maturity']).count()"
   ]
  },
  {
   "cell_type": "code",
   "execution_count": null,
   "id": "25d03cc7",
   "metadata": {},
   "outputs": [],
   "source": [
    "#Maturity x TD Type\n",
    "artifacts_df.loc[:,['maturity', 'name', 'type']].groupby(['type', 'maturity']).count()"
   ]
  },
  {
   "cell_type": "code",
   "execution_count": null,
   "id": "95a3c49f",
   "metadata": {
    "tags": []
   },
   "outputs": [],
   "source": [
    "# Maturity x Input Format\n",
    "input_format = set([x for i in artifacts_df.index for x in artifacts_df['input_info'][i]])"
   ]
  },
  {
   "cell_type": "code",
   "execution_count": null,
   "id": "217413fc",
   "metadata": {
    "tags": []
   },
   "outputs": [],
   "source": [
    "for x in input_format:\n",
    "    maturity = {\n",
    "    'Examples':0,\n",
    "    'Academic Studies':0,\n",
    "    'Industrial Studies':0,\n",
    "    'Industrial Applications':0\n",
    "    }\n",
    "    \n",
    "    for i in artifacts_df.index:\n",
    "        if x in artifacts_df['input_info'][i]:\n",
    "            maturity[artifacts_df['maturity'][i]] += 1\n",
    "    print(f'{x} : {maturity}')"
   ]
  }
 ],
 "metadata": {
  "kernelspec": {
   "display_name": "Python 3 (ipykernel)",
   "language": "python",
   "name": "python3"
  },
  "language_info": {
   "codemirror_mode": {
    "name": "ipython",
    "version": 3
   },
   "file_extension": ".py",
   "mimetype": "text/x-python",
   "name": "python",
   "nbconvert_exporter": "python",
   "pygments_lexer": "ipython3",
   "version": "3.10.0"
  }
 },
 "nbformat": 4,
 "nbformat_minor": 5
}
