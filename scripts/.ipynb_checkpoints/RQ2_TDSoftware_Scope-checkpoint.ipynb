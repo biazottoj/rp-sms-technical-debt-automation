{
 "cells": [
  {
   "cell_type": "markdown",
   "id": "e635e9df",
   "metadata": {},
   "source": [
    "# RQ2 - What is the scope of the software artifacts?"
   ]
  },
  {
   "cell_type": "code",
   "execution_count": null,
   "id": "397f7592",
   "metadata": {
    "tags": []
   },
   "outputs": [],
   "source": [
    "import pandas as pd\n",
    "import numpy as np\n",
    "from upsetplot import plot\n",
    "from matplotlib import pyplot\n",
    "from upsetplot import from_contents\n",
    "from matplotlib import pyplot as plt\n",
    "from upsetplot import UpSet\n",
    "import helpers as helpers\n",
    "\n",
    "path = '../data/Step1_artifacts.json'\n",
    "\n",
    "artifacts_df = pd.read_json(path, orient='index')\n",
    "\n",
    "def to_1D(series):\n",
    " return pd.Series([x for _list in series for x in _list])\n",
    "\n",
    "def add_list_to_dict(dict_variable = None, key = None, items_list = None):\n",
    "  if key in dict_variable.keys():\n",
    "    dict_variable[key].extend(items_list)\n",
    "    dict_variable[key] = list(set(dict_variable[key]))\n",
    "  else:\n",
    "    dict_variable[key] = items_list\n",
    "  return dict_variable"
   ]
  },
  {
   "cell_type": "markdown",
   "id": "1026577e",
   "metadata": {},
   "source": [
    "### TDMA and TD Types Total"
   ]
  },
  {
   "cell_type": "code",
   "execution_count": null,
   "id": "496e906c",
   "metadata": {
    "tags": []
   },
   "outputs": [],
   "source": [
    "#Total x TD TDMA\n",
    "to_1D(artifacts_df['tdma']).value_counts()"
   ]
  },
  {
   "cell_type": "code",
   "execution_count": null,
   "id": "fd2c7e4b",
   "metadata": {
    "scrolled": true,
    "tags": []
   },
   "outputs": [],
   "source": [
    "#Total x TD Type\n",
    "types = to_1D(artifacts_df['td_type']).value_counts()\n",
    "types.drop('')"
   ]
  },
  {
   "cell_type": "markdown",
   "id": "3851674f",
   "metadata": {},
   "source": [
    "### TD Activities"
   ]
  },
  {
   "cell_type": "code",
   "execution_count": null,
   "id": "79428e90",
   "metadata": {
    "tags": []
   },
   "outputs": [],
   "source": [
    "tdma = to_1D(artifacts_df['tdma']).value_counts().sort_values(ascending=False)\n",
    "\n",
    "width = 0.25\n",
    "x_pos = [0 + (2* x * width) for x in range(len(tdma))]\n",
    "\n",
    "plt.rcParams[\"figure.figsize\"] = (5,4)\n",
    "fig, ax = plt.subplots(layout='tight')\n",
    "ax.bar(x_pos, height=tdma, width = width, color = 'grey')\n",
    "\n",
    "ax.spines['top'].set_visible(False)\n",
    "ax.spines['right'].set_visible(False)\n",
    "ax.spines['bottom'].set_visible(True)\n",
    "ax.spines['left'].set_visible(False)\n",
    "\n",
    "scale = 75\n",
    "\n",
    "for index, value in enumerate(tdma):\n",
    "    if value > 100:\n",
    "        factor = 0.7\n",
    "    elif value > 10:\n",
    "        factor = 0.32\n",
    "    else:\n",
    "        factor = 0.2\n",
    "        \n",
    "    ax.text(x_pos[index] - factor * width, value + 3 if value <= scale else scale + 3,\n",
    "             str(value))\n",
    "\n",
    "ax.set_ylim([0,scale])\n",
    "ax.set_yticks([])\n",
    "ax.set_xticks([])\n",
    "    \n",
    "ax.spines['top'].set_visible(False)\n",
    "ax.spines['right'].set_visible(False)\n",
    "ax.spines['bottom'].set_visible(False)\n",
    "ax.spines['left'].set_visible(False)\n",
    "\n",
    "plt.savefig('../figures/rq2-tdma.pdf', bbox_inches='tight')"
   ]
  },
  {
   "cell_type": "code",
   "execution_count": null,
   "id": "674e4736",
   "metadata": {
    "tags": []
   },
   "outputs": [],
   "source": [
    "tdma = to_1D(artifacts_df['tdma']).value_counts().sort_values(ascending = False).index.to_list()\n",
    "columns = ['id']\n",
    "columns.extend(tdma)\n",
    "\n",
    "rows = []\n",
    "\n",
    "for i in artifacts_df.index:\n",
    "  r = []\n",
    "  r.append(i)\n",
    "  for a in tdma:\n",
    "    if a in artifacts_df['tdma'][i]:\n",
    "      r.append(True)\n",
    "    else:\n",
    "      r.append(False)\n",
    "  rows.append(r)\n",
    "\n",
    "uppset_tdma = pd.DataFrame(rows, columns=columns)"
   ]
  },
  {
   "cell_type": "code",
   "execution_count": null,
   "id": "f771ebae",
   "metadata": {
    "tags": []
   },
   "outputs": [],
   "source": [
    "#Number of artifacts that automate a single TD activity\n",
    "len([x for x in artifacts_df['tdma'].str.len() if x == 1])"
   ]
  },
  {
   "cell_type": "code",
   "execution_count": null,
   "id": "68f72717",
   "metadata": {
    "tags": []
   },
   "outputs": [],
   "source": [
    "artifacts_tdma = {}\n",
    "for i in tdma:\n",
    "  ids = uppset_tdma.loc[uppset_tdma[i] == True]['id'].to_list()\n",
    "  artifacts_tdma = add_list_to_dict(dict_variable = artifacts_tdma,\n",
    "                                         key = i,\n",
    "                                         items_list = ids)\n",
    "\n",
    "helpers.plot_upset(items_dict = artifacts_tdma, element_size = 30, color = 'grey', output_name = 'rq2-upset-tdma')"
   ]
  },
  {
   "cell_type": "markdown",
   "id": "957ba024",
   "metadata": {},
   "source": [
    "### TD Types"
   ]
  },
  {
   "cell_type": "code",
   "execution_count": null,
   "id": "49c9ace1",
   "metadata": {
    "tags": []
   },
   "outputs": [],
   "source": [
    "td_types = to_1D(artifacts_df['td_type']).value_counts().sort_values(ascending = False).drop('')\n",
    "\n",
    "width = 0.25\n",
    "x_pos = [0 + (2* x * width) for x in range(len(td_types))]\n",
    "\n",
    "plt.rcParams[\"figure.figsize\"] = (5,4)\n",
    "fig, ax = plt.subplots(layout='tight')\n",
    "ax.bar(x_pos, height=td_types, width = width, color = 'grey')\n",
    "\n",
    "ax.spines['top'].set_visible(False)\n",
    "ax.spines['right'].set_visible(False)\n",
    "ax.spines['bottom'].set_visible(True)\n",
    "ax.spines['left'].set_visible(False)\n",
    "\n",
    "scale = 75\n",
    "\n",
    "for index, value in enumerate(td_types):\n",
    "    if value > 100:\n",
    "        factor = 0.5\n",
    "    elif value > 10:\n",
    "        factor = 0.32\n",
    "    else:\n",
    "        factor = 0.2\n",
    "        \n",
    "    ax.text(x_pos[index] - factor * width, value + 3 if value <= scale else scale + 3,\n",
    "             str(value), rotation = 90)\n",
    "\n",
    "ax.set_ylim([0,scale])\n",
    "ax.set_yticks([])\n",
    "ax.set_xticks([])\n",
    "    \n",
    "ax.spines['top'].set_visible(False)\n",
    "ax.spines['right'].set_visible(False)\n",
    "ax.spines['bottom'].set_visible(False)\n",
    "ax.spines['left'].set_visible(False)\n",
    "\n",
    "plt.savefig('../figures/rq2-td-types.pdf', bbox_inches='tight')"
   ]
  },
  {
   "cell_type": "code",
   "execution_count": null,
   "id": "3fef6cc6",
   "metadata": {
    "tags": []
   },
   "outputs": [],
   "source": [
    "#Collecting the list of TD Types\n",
    "td_types = to_1D(artifacts_df['td_type']).value_counts().sort_values(ascending=False).drop('').index.to_list()\n",
    "\n",
    "\n",
    "columns = ['id']\n",
    "columns.extend(td_types)\n",
    "\n",
    "rows = []\n",
    "\n",
    "for i in artifacts_df.index:\n",
    "  r = []\n",
    "  r.append(i)\n",
    "  for a in td_types:\n",
    "    if a in artifacts_df['td_type'][i]:\n",
    "      r.append(True)\n",
    "    else:\n",
    "      r.append(False)\n",
    "  rows.append(r)\n",
    "\n",
    "uppset_td_types = pd.DataFrame(rows, columns=columns)"
   ]
  },
  {
   "cell_type": "code",
   "execution_count": null,
   "id": "3a22ff94",
   "metadata": {
    "tags": []
   },
   "outputs": [],
   "source": [
    "artifacts_tdt = {}\n",
    "for i in td_types:\n",
    "  ids = uppset_td_types.loc[uppset_td_types[i] == True]['id'].to_list()\n",
    "  artifacts_tdt = add_list_to_dict(dict_variable = artifacts_tdt,\n",
    "                                         key = i,\n",
    "                                         items_list = ids)\n",
    "    \n",
    "helpers.plot_upset(items_dict = artifacts_tdt, element_size = 30, color = 'grey', output_name = 'rq2-upset-td-types')"
   ]
  },
  {
   "cell_type": "markdown",
   "id": "4a788e6f",
   "metadata": {},
   "source": [
    "## TD Activities x TD Types"
   ]
  },
  {
   "cell_type": "code",
   "execution_count": null,
   "id": "a6346a2d",
   "metadata": {
    "tags": []
   },
   "outputs": [],
   "source": [
    "merged_df = uppset_td_types.merge(uppset_tdma, left_on='id', right_on='id')"
   ]
  },
  {
   "cell_type": "code",
   "execution_count": null,
   "id": "e0e1d1f1",
   "metadata": {
    "tags": []
   },
   "outputs": [],
   "source": [
    "tdma_tdt = {}\n",
    "\n",
    "for tda in tdma:\n",
    "    tdma_tdt[tda] = {}\n",
    "    for tdt in td_types:\n",
    "        tdma_tdt[tda][tdt] = len(merged_df.loc[(merged_df[tdt] == True) & (merged_df[tda] == True)])"
   ]
  },
  {
   "cell_type": "code",
   "execution_count": null,
   "id": "44284108",
   "metadata": {
    "tags": []
   },
   "outputs": [],
   "source": [
    "#Number of artifacts per TDMA and TD Type\n",
    "columns = ['type']\n",
    "columns.extend(tdma)\n",
    "\n",
    "rows = []\n",
    "for tdt in td_types:\n",
    "    r = []\n",
    "    r.append(tdt)\n",
    "    for k, tda in tdma_tdt.items():\n",
    "        r.append(tda[tdt])\n",
    "    \n",
    "    rows.append(r)\n",
    "new_df = pd.DataFrame(rows, columns=columns)    \n",
    "new_df.to_csv('../data/rq2-td-types-per-tdma.csv')"
   ]
  }
 ],
 "metadata": {
  "kernelspec": {
   "display_name": "Python 3 (ipykernel)",
   "language": "python",
   "name": "python3"
  },
  "language_info": {
   "codemirror_mode": {
    "name": "ipython",
    "version": 3
   },
   "file_extension": ".py",
   "mimetype": "text/x-python",
   "name": "python",
   "nbconvert_exporter": "python",
   "pygments_lexer": "ipython3",
   "version": "3.10.0"
  }
 },
 "nbformat": 4,
 "nbformat_minor": 5
}
