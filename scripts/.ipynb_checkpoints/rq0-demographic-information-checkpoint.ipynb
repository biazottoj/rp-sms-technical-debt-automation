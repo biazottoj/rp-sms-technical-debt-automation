{
 "cells": [
  {
   "cell_type": "markdown",
   "id": "094c0ced",
   "metadata": {},
   "source": [
    "## Global Variables"
   ]
  },
  {
   "cell_type": "code",
   "execution_count": null,
   "id": "70331914",
   "metadata": {
    "scrolled": true,
    "tags": []
   },
   "outputs": [],
   "source": [
    "import pandas as pd\n",
    "import numpy as np\n",
    "import matplotlib.pyplot as plt\n",
    "from pathlib import Path\n",
    "\n",
    "\n",
    "data_dir = Path('../data/')\n",
    "\n",
    "artifacts_df = pd.read_json(data_dir.joinpath('studies-and-artifacts.json'), orient='index')\n",
    "studies_df = pd.read_csv(data_dir.joinpath('selected-studies.csv'), index_col='id')\n",
    "\n",
    "tdma_list = ['repayment',\n",
    "            'monitoring',\n",
    "            'measurement',\n",
    "            'identification',\n",
    "            'communication',\n",
    "            'prevention',\n",
    "            'priorization',\n",
    "            'representation/documentation']\n",
    "\n",
    "td_types_list = ['code',\n",
    "                 'design',\n",
    "                 'architectural',\n",
    "                 'test',\n",
    "                 'documentation',\n",
    "                 'requirements',\n",
    "                 'build',\n",
    "                 'infrastructure',\n",
    "                 'versioning',\n",
    "                 'satd']"
   ]
  },
  {
   "cell_type": "markdown",
   "id": "270b50ec",
   "metadata": {},
   "source": [
    "## Step 1 - Studies per year"
   ]
  },
  {
   "cell_type": "code",
   "execution_count": null,
   "id": "0d2cd6c2",
   "metadata": {
    "tags": []
   },
   "outputs": [],
   "source": [
    "import matplotlib.pyplot as plt\n",
    "import numpy as np\n",
    "\n",
    "artifacts_per_year = artifacts_df[['first_citation', 'name']].groupby('first_citation').count().sort_values(by='first_citation')\n",
    "studies_per_year = studies_df[['year', 'title']].groupby('year').count().sort_values(by='year')\n",
    "\n",
    "artifacts_years = []\n",
    "studies_year = []\n",
    "for i in studies_per_year.index:\n",
    "    studies_year.append(studies_per_year['title'][i])\n",
    "    if i in artifacts_per_year.index:\n",
    "        artifacts_years.append(artifacts_per_year['name'][i])\n",
    "    else:\n",
    "        artifacts_years.append(0)\n",
    "\n",
    "years = [x.replace(',','').replace('.00', '') for x in studies_per_year.index]\n",
    "values = {\n",
    "    'Studies': studies_year,\n",
    "    'Automation Artifacts': artifacts_years\n",
    "}\n",
    "\n",
    "colors = {\n",
    "    'Studies': 'cornflowerblue',\n",
    "    'Automation Artifacts': 'lightgray'\n",
    "}\n",
    "\n",
    "x = np.arange(len(years))  # the label locations\n",
    "width = 0.25  # the width of the bars\n",
    "multiplier = 0.3\n",
    "\n",
    "fig, ax = plt.subplots(layout='tight')\n",
    "\n",
    "for attribute, measurement in values.items():\n",
    "    offset = width * multiplier\n",
    "    rects = ax.bar(x + offset, measurement, width, label=attribute, color = colors[attribute])\n",
    "    ax.bar_label(rects, padding=2)\n",
    "    multiplier += 1.3\n",
    "\n",
    "# Add some text for labels, title and custom x-axis tick labels, etc.\n",
    "ax.set_xticks(x + width, years)\n",
    "ax.legend(loc='upper left')\n",
    "ax.set_ylim(0, 40)\n",
    "\n",
    "ax.spines['top'].set_visible(False)\n",
    "ax.spines['right'].set_visible(False)\n",
    "ax.spines['bottom'].set_visible(True)\n",
    "ax.spines['left'].set_visible(True)\n",
    "\n",
    "ax.margins(0.05, 0)\n",
    "\n",
    "plt.rcParams[\"figure.figsize\"] = (10,6)\n",
    "\n",
    "plt.savefig('../figures/dem-studies-per-year.pdf', bbox_inches='tight')"
   ]
  },
  {
   "cell_type": "markdown",
   "id": "81a59895",
   "metadata": {},
   "source": [
    "## Step 2 - Studies per venue type"
   ]
  },
  {
   "cell_type": "code",
   "execution_count": null,
   "id": "ad3a7124",
   "metadata": {
    "tags": []
   },
   "outputs": [],
   "source": [
    "venues = studies_df.loc[:,['venue_type','venue']].groupby('venue_type').count().sort_values(by='venue', ascending=False)\n",
    "fig, ax = plt.subplots()\n",
    "ax.pie([venues['venue']['Conference'] + venues['venue']['Workshop'], venues['venue']['Journal']], labels=['Events', 'Journal'], \n",
    "       autopct='%1.1f%%', colors = ['cornflowerblue', 'lightgray'])\n",
    "\n",
    "ax.margins(0.05, 0)\n",
    "\n",
    "plt.rcParams[\"figure.figsize\"] = (10,4)\n",
    "\n",
    "plt.savefig('../figures/dem-studies-per-venue.pdf', bbox_inches='tight')"
   ]
  },
  {
   "cell_type": "code",
   "execution_count": null,
   "id": "04426fbe",
   "metadata": {
    "tags": []
   },
   "outputs": [],
   "source": [
    "venues"
   ]
  },
  {
   "cell_type": "markdown",
   "id": "916abb81",
   "metadata": {},
   "source": [
    "## Step 3 - Studies per author type"
   ]
  },
  {
   "cell_type": "code",
   "execution_count": null,
   "id": "a6c60e08",
   "metadata": {
    "tags": []
   },
   "outputs": [],
   "source": [
    "studies_per_author_type = studies_df.loc[:,['author_type','venue']].groupby('author_type').count().sort_values(by='venue', ascending=False)\n",
    "\n",
    "fig, ax = plt.subplots()\n",
    "\n",
    "ax.pie(studies_per_author_type['venue'], labels=studies_per_author_type.index, \n",
    "       autopct='%1.1f%%'\n",
    "       , colors = ['cornflowerblue', 'gray','lightsteelblue'])\n",
    "\n",
    "ax.margins(0.05, 0)\n",
    "\n",
    "plt.rcParams[\"figure.figsize\"] = (10,4)\n",
    "\n",
    "plt.savefig('../figures/dem-studies-per-author-type.pdf', bbox_inches='tight')"
   ]
  },
  {
   "cell_type": "code",
   "execution_count": null,
   "id": "992ecac6-5e5b-4158-a3e1-2900e79a6419",
   "metadata": {
    "tags": []
   },
   "outputs": [],
   "source": [
    "studies_per_author_type"
   ]
  }
 ],
 "metadata": {
  "kernelspec": {
   "display_name": "Python 3 (ipykernel)",
   "language": "python",
   "name": "python3"
  },
  "language_info": {
   "codemirror_mode": {
    "name": "ipython",
    "version": 3
   },
   "file_extension": ".py",
   "mimetype": "text/x-python",
   "name": "python",
   "nbconvert_exporter": "python",
   "pygments_lexer": "ipython3",
   "version": "3.10.0"
  }
 },
 "nbformat": 4,
 "nbformat_minor": 5
}
