{
 "cells": [
  {
   "cell_type": "markdown",
   "id": "d26d030f",
   "metadata": {},
   "source": [
    "# RQ3 - How are software artifacts used in the software development?"
   ]
  },
  {
   "cell_type": "code",
   "execution_count": null,
   "id": "5b545565",
   "metadata": {
    "tags": []
   },
   "outputs": [],
   "source": [
    "import pandas as pd\n",
    "import json\n",
    "from upsetplot import plot\n",
    "from matplotlib import pyplot\n",
    "from upsetplot import from_contents\n",
    "from matplotlib import pyplot as plt\n",
    "from upsetplot import UpSet\n",
    "from helpers import *\n",
    "\n",
    "int_types_parser = {\n",
    " '':'',\n",
    " 'id':'id',\n",
    " 'cli (standard input)': 'cli',\n",
    " 'api' : 'api',\n",
    " 'api (plugin for github)': 'api',\n",
    " 'gui (plugin for another automation artifact)': 'gui',\n",
    " 'gui': 'gui',\n",
    " 'api (integrates with ci)': 'api',\n",
    " 'gui (plugin for ide)': 'gui'\n",
    "}\n",
    "\n",
    "path = '../data/studies-and-artifacts.json'\n",
    "\n",
    "artifacts_df = pd.read_json(path, orient='index')\n",
    "\n",
    "tdma_list = ['repayment',\n",
    "            'monitoring',\n",
    "            'measurement',\n",
    "            'identification',\n",
    "            'communication',\n",
    "            'prevention',\n",
    "            'priorization',\n",
    "            'representation/documentation']\n",
    "\n",
    "td_types_list = ['code',\n",
    "                 'design',\n",
    "                 'architectural',\n",
    "                 'test',\n",
    "                 'documentation',\n",
    "                 'requirements',\n",
    "                 'build',\n",
    "                 'infrastructure',\n",
    "                 'versioning',\n",
    "                 'satd']"
   ]
  },
  {
   "cell_type": "markdown",
   "id": "3940f98e",
   "metadata": {},
   "source": [
    "### RQ3.1 - What triggers are used to initiate the automation process?"
   ]
  },
  {
   "cell_type": "code",
   "execution_count": null,
   "id": "f24c56d1",
   "metadata": {
    "tags": []
   },
   "outputs": [],
   "source": [
    "#Building dataset with triggers, types, and activities\n",
    "col = ['id','trigger']\n",
    "col.extend(tdma_list)\n",
    "col.extend(td_types_list)\n",
    "\n",
    "data = []\n",
    "for i in artifacts_df.index:\n",
    "  row = [i, artifacts_df['trigger'][i]]\n",
    "\n",
    "  for tda in tdma_list:\n",
    "    if tda in artifacts_df['tdma'][i]:\n",
    "      row.append(1)\n",
    "    else:\n",
    "      row.append(0)\n",
    "\n",
    "  for tdt in td_types_list:\n",
    "    if tdt in artifacts_df['td_type'][i]:\n",
    "      row.append(1)\n",
    "    else:\n",
    "      row.append(0)\n",
    "\n",
    "  data.append(row)\n",
    "\n",
    "tdt_tdma_triggers = pd.DataFrame(data, columns=col)"
   ]
  },
  {
   "cell_type": "code",
   "execution_count": null,
   "id": "468171ef",
   "metadata": {
    "tags": []
   },
   "outputs": [],
   "source": [
    "# Trigger\n",
    "artifacts_df.loc[:,['name','trigger']].groupby(['trigger']).count()"
   ]
  },
  {
   "cell_type": "code",
   "execution_count": null,
   "id": "4bd24d9e",
   "metadata": {
    "tags": []
   },
   "outputs": [],
   "source": [
    "# Software Type x Trigger\n",
    "artifacts_df.loc[:,['name','trigger', 'type']].groupby(['trigger','type']).count()"
   ]
  },
  {
   "cell_type": "code",
   "execution_count": null,
   "id": "300d531c",
   "metadata": {
    "tags": []
   },
   "outputs": [],
   "source": [
    "# Software Type x Trigger x Could Integrate?\n",
    "artifacts_df.loc[:,['name','type', 'can-integrated', 'trigger']].groupby(['type','trigger', 'can-integrated']).count()"
   ]
  },
  {
   "cell_type": "code",
   "execution_count": null,
   "id": "e83cb9d3-d282-411f-9135-686ba2316ce3",
   "metadata": {},
   "outputs": [],
   "source": [
    "# Software Type x Trigger x Could Integrate?\n",
    "artifacts_df.loc[:,['name','type', 'devlopment-activity-mapping', 'trigger']].groupby(['devlopment-activity-mapping','trigger']).count()"
   ]
  },
  {
   "cell_type": "code",
   "execution_count": null,
   "id": "e19d79d0-a48a-4e7e-b22f-5a4627025412",
   "metadata": {},
   "outputs": [],
   "source": [
    "# Software Type x Trigger x Could Integrate?\n",
    "artifacts_df.loc[artifacts_df['is-integrated'] == 'Yes', ['name','type', 'devlopment-activity-mapping']].groupby(['devlopment-activity-mapping']).count()"
   ]
  },
  {
   "cell_type": "markdown",
   "id": "90ad9edb",
   "metadata": {},
   "source": [
    "### RQ3.2 - Can the artifacts be integrated?"
   ]
  },
  {
   "cell_type": "code",
   "execution_count": null,
   "id": "22d7ad1f",
   "metadata": {
    "tags": []
   },
   "outputs": [],
   "source": [
    "artifacts_df.loc[:,['name', 'is-integrated']].groupby(['is-integrated']).count()"
   ]
  },
  {
   "cell_type": "code",
   "execution_count": null,
   "id": "58653b06",
   "metadata": {
    "tags": []
   },
   "outputs": [],
   "source": [
    "# Trigger x Is Integrated?\n",
    "\n",
    "artifacts_df.loc[:,['name','trigger', 'is-integrated']].groupby(['trigger', 'is-integrated']).count()"
   ]
  },
  {
   "cell_type": "code",
   "execution_count": null,
   "id": "1e957e23",
   "metadata": {
    "tags": []
   },
   "outputs": [],
   "source": [
    "# Trigger x Could Integrated?\n",
    "\n",
    "artifacts_df.loc[:,['name','trigger', 'can-integrated']].groupby(['trigger', 'can-integrated']).count()"
   ]
  },
  {
   "cell_type": "code",
   "execution_count": null,
   "id": "e867989b",
   "metadata": {
    "tags": []
   },
   "outputs": [],
   "source": [
    "artifacts_df.loc[:,['name', 'can-integrated']].groupby(['can-integrated']).count()"
   ]
  },
  {
   "cell_type": "code",
   "execution_count": null,
   "id": "6a3ceae6",
   "metadata": {
    "tags": []
   },
   "outputs": [],
   "source": [
    "#Build Dataset for Uppset interfaces\n",
    "columns = ['id']\n",
    "columns.extend(['api', 'gui', 'cli'])\n",
    "rows = []\n",
    "for i in artifacts_df.index:\n",
    "  r = []\n",
    "  r.append(i)\n",
    "\n",
    "  if artifacts_df['interface-type'][i] != 'multiple':\n",
    "    api = True if artifacts_df['interface-type'][i] == \"api\" else False\n",
    "    gui = True if artifacts_df['interface-type'][i] == \"gui\" else False\n",
    "    cli = True if artifacts_df['interface-type'][i] == \"cli\" else False\n",
    "  else:\n",
    "    api = True if len([x for x in artifacts_df['interface-subtype'][i] if 'api' in x]) else False\n",
    "    gui = True if len([x for x in artifacts_df['interface-subtype'][i] if 'gui' in x]) else False\n",
    "    cli = True if len([x for x in artifacts_df['interface-subtype'][i] if 'cli' in x]) else False\n",
    "\n",
    "  r.extend([api,gui,cli])\n",
    "  rows.append(r)\n",
    "\n",
    "uppset_interfaces_df = pd.DataFrame(rows, columns=columns)\n",
    "\n",
    "\n",
    "artifacts_interfaces = {}\n",
    "for i in ['api', 'gui', 'cli']:\n",
    "    ids = uppset_interfaces_df.loc[uppset_interfaces_df[i] == True]['id'].to_list()\n",
    "    artifacts_interfaces[i] = ids\n",
    "plot_upset(items_dict = artifacts_interfaces, element_size = 50, color = 'grey', output_name = 'rq3-upset-interfaces')"
   ]
  },
  {
   "cell_type": "code",
   "execution_count": null,
   "id": "7a7a8057-574b-40f6-b1bc-50595c6b749b",
   "metadata": {
    "tags": []
   },
   "outputs": [],
   "source": [
    "#Build dataset with interfaces used during integrtaions\n",
    "artifacts_is_integrated = artifacts_df.loc[(artifacts_df['is-integrated'] == 'Yes') & (artifacts_df['interface-type'] != 'gui')]\n",
    "integrations_types_existing = to_1D(artifacts_is_integrated['is-integrated-using-interface-subtype']).unique().tolist()\n",
    "integrations_types_existing.sort()\n",
    "columns = ['id']\n",
    "columns.extend(integrations_types_existing)\n",
    "\n",
    "rows = []\n",
    "\n",
    "for i in artifacts_is_integrated.index:\n",
    "  r = []\n",
    "  r.append(i)\n",
    "  for a in integrations_types_existing:\n",
    "    if a in artifacts_is_integrated['is-integrated-using-interface-subtype'][i]:\n",
    "      r.append(True)\n",
    "    else:\n",
    "      r.append(False)\n",
    "  rows.append(r)\n",
    "\n",
    "uppset_is_integrated_using_interface_subtype = pd.DataFrame(rows, columns=columns)\n",
    "\n",
    "artifacts_interface_exisiting = {}\n",
    "for i in uppset_is_integrated_using_interface_subtype:\n",
    "  parsed_type = int_types_parser[i]\n",
    "  ids = uppset_is_integrated_using_interface_subtype.loc[uppset_is_integrated_using_interface_subtype[i] == True]['id'].to_list()\n",
    "  artifacts_interface_exisiting = add_list_to_dict(dict_variable = artifacts_interface_exisiting,\n",
    "                                         key = parsed_type,\n",
    "                                         items_list = uppset_is_integrated_using_interface_subtype.loc[uppset_is_integrated_using_interface_subtype[i] == True]['id'].to_list())\n",
    "\n",
    "artifacts_interface_exisiting.pop('id')\n",
    "plot_upset(items_dict = artifacts_interface_exisiting, element_size = 50, color = 'grey', output_name = 'rq3-upset-existing-integration')"
   ]
  },
  {
   "cell_type": "code",
   "execution_count": null,
   "id": "8d12f43f-a4df-43cd-b7be-175051e505c9",
   "metadata": {
    "tags": []
   },
   "outputs": [],
   "source": [
    "#Build dataset with interfaces for possible integration\n",
    "artifacts_can_integrated = artifacts_df.loc[(artifacts_df['can-integrated'] == 'Yes')]\n",
    "integrations_types_possible = to_1D(artifacts_can_integrated['interface-subtype']).unique().tolist()\n",
    "integrations_types_possible.sort()\n",
    "columns = ['id']\n",
    "columns.extend(integrations_types_possible)\n",
    "\n",
    "rows = []\n",
    "\n",
    "for i in artifacts_can_integrated.index:\n",
    "  r = []\n",
    "  r.append(i)\n",
    "  for a in integrations_types_possible:\n",
    "    if a in artifacts_can_integrated['interface-subtype'][i] and \\\n",
    "       a not in artifacts_can_integrated['is-integrated-using-interface-subtype'][i]: \n",
    "        r.append(True)\n",
    "    else:\n",
    "      r.append(False)\n",
    "  rows.append(r)\n",
    "\n",
    "uppset_interface_subtype = pd.DataFrame(rows, columns=columns)\n",
    "\n",
    "artifacts_interface = {}\n",
    "for i in uppset_interface_subtype:\n",
    "  parsed_type = int_types_parser[i]\n",
    "  artifacts_interface = add_list_to_dict(dict_variable = artifacts_interface,\n",
    "                                         key = parsed_type,\n",
    "                                         items_list = uppset_interface_subtype.loc[uppset_interface_subtype[i] == True]['id'].to_list())\n",
    "\n",
    "artifacts_interface.pop('id')\n",
    "plot_upset(items_dict = artifacts_interface, element_size = 50, color = 'grey', output_name = 'rq3-upset-possible-integration')"
   ]
  }
 ],
 "metadata": {
  "kernelspec": {
   "display_name": "Python 3 (ipykernel)",
   "language": "python",
   "name": "python3"
  },
  "language_info": {
   "codemirror_mode": {
    "name": "ipython",
    "version": 3
   },
   "file_extension": ".py",
   "mimetype": "text/x-python",
   "name": "python",
   "nbconvert_exporter": "python",
   "pygments_lexer": "ipython3",
   "version": "3.10.0"
  }
 },
 "nbformat": 4,
 "nbformat_minor": 5
}
