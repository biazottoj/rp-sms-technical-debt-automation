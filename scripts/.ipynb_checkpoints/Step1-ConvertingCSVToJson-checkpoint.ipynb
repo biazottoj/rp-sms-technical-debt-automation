{
 "cells": [
  {
   "cell_type": "markdown",
   "id": "c7421fd8",
   "metadata": {},
   "source": [
    "## Step 1 - Preparing data for json file"
   ]
  },
  {
   "cell_type": "code",
   "execution_count": 3,
   "id": "7e59072f",
   "metadata": {},
   "outputs": [],
   "source": [
    "#Preparing data to save in a Json File\n",
    "import pandas as pd\n",
    "import json\n",
    "\n",
    "artifacts_df = pd.read_csv(open(\"../data/selected_artifacts.csv\", encoding='utf8'))\n",
    "artifacts_df.set_index('id', inplace=True)\n",
    "studies_df = pd.read_csv(open(\"../data/studies_dataset.csv\", encoding='utf8'))\n",
    "\n",
    "for i in artifacts_df.index:\n",
    "\n",
    "  artifacts_df['td_type'][i] = artifacts_df['td_type'][i].replace(' TD','').lower().replace('defect','').replace('security','').lower().replace(\" \", \"\").replace(\"[\", \"\").replace(\"]\",\"\").replace(\"'\", \"\").split(',')\n",
    "  artifacts_df['tdma'][i] = artifacts_df['tdma'][i].lower().replace(\" \", \"\").replace(\"[\", \"\").replace(\"]\",\"\").replace(\"'\", \"\").split(',')\n",
    "  artifacts_df['output_info'][i] = str(artifacts_df['output_info'][i]).lower().replace(\"[\", \"\").replace(\"]\",\"\").replace(\"'\", \"\").split(',')\n",
    "  artifacts_df['output_fmt'][i] = artifacts_df['output_fmt'][i].lower().replace(\"[\", \"\").replace(\"]\",\"\").replace(\"'\", \"\").split(',')\n",
    "  artifacts_df['input_info'][i] = artifacts_df['input_info'][i].lower().replace(\"[\", \"\").replace(\"]\",\"\").replace(\"'\", \"\").split(',')\n",
    "  artifacts_df['input_fmt'][i] = artifacts_df['input_fmt'][i].lower().replace(\" \", \"\").replace(\"[\", \"\").replace(\"]\",\"\").replace(\"'\", \"\").split(',')\n",
    "  artifacts_df['programming_language'][i] = artifacts_df['programming_language'][i].lower().split(',')\n",
    "  artifacts_df['license_type'][i] = str(artifacts_df['license_type'][i]).lower().split(',')\n",
    "  artifacts_df['studies_citing_artifact'][i] = artifacts_df['studies_citing_artifact'][i].split(',')\n",
    "  artifacts_df['other_comments'][i] = str(artifacts_df['other_comments'][i]).split(',')\n",
    "  artifacts_df['is-integrated-description'][i] = str(artifacts_df['is-integrated-description'][i]).split('\\n')\n",
    "  artifacts_df['is-integrated-with'][i] = str(artifacts_df['is-integrated-with'][i]).split('\\n')\n",
    "  artifacts_df['is-integrated-using-interface-subtype'][i] = str(artifacts_df['is-integrated-using-interface-subtype'][i]).split('\\n')\n",
    "  artifacts_df['interface-subtype'][i] = str(artifacts_df['interface-subtype'][i]).split('\\n')\n",
    "  artifacts_df['trigger-description'][i] = str(artifacts_df['trigger-description'][i]).split('\\n')\n",
    "  artifacts_df['devlopment-activity-mapping'][i] = str(artifacts_df['devlopment-activity-mapping'][i]).split('\\n')"
   ]
  },
  {
   "cell_type": "markdown",
   "id": "2ee5a1d9",
   "metadata": {},
   "source": [
    "## Step 2- Retrieving artifact's first citation year"
   ]
  },
  {
   "cell_type": "code",
   "execution_count": 9,
   "id": "d0fb64e5",
   "metadata": {},
   "outputs": [],
   "source": [
    "artifacts_df['first_citation'] = '-'\n",
    "for i in artifacts_df.index:\n",
    "    years = set([studies_df['year'][x] for x in studies_df.index if studies_df['old_id'][x] in artifacts_df['studies_citing_artifact'][i]])\n",
    "    #artifacts_df['first_citation'][i] = min(years)\n",
    "    if len(years) <= 0:\n",
    "        print(artifacts_df['name'][i])"
   ]
  },
  {
   "cell_type": "markdown",
   "id": "713a0e08",
   "metadata": {},
   "source": [
    "## Step 3- Storing Json file"
   ]
  },
  {
   "cell_type": "code",
   "execution_count": 10,
   "id": "dae94d06",
   "metadata": {},
   "outputs": [],
   "source": [
    "#Storing dataset in a JSON file\n",
    "\n",
    "result = artifacts_df.to_json(orient='index')\n",
    "json_raw = json.loads(result)\n",
    "with open('../data/Step1_artifacts.json', 'w') as f:\n",
    "    json.dump(json_raw,f)"
   ]
  }
 ],
 "metadata": {
  "kernelspec": {
   "display_name": "Python 3 (ipykernel)",
   "language": "python",
   "name": "python3"
  },
  "language_info": {
   "codemirror_mode": {
    "name": "ipython",
    "version": 3
   },
   "file_extension": ".py",
   "mimetype": "text/x-python",
   "name": "python",
   "nbconvert_exporter": "python",
   "pygments_lexer": "ipython3",
   "version": "3.10.0"
  }
 },
 "nbformat": 4,
 "nbformat_minor": 5
}
