{
 "cells": [
  {
   "cell_type": "markdown",
   "id": "c7421fd8",
   "metadata": {},
   "source": [
    "## Step 1 - Preparing data for json file"
   ]
  },
  {
   "cell_type": "code",
   "execution_count": null,
   "id": "7e59072f",
   "metadata": {},
   "outputs": [],
   "source": [
    "#Preparing data to save in a Json File\n",
    "import pandas as pd\n",
    "import json\n",
    "\n",
    "artifacts_df = pd.read_csv(open(\"../data/artifacts_dataset_raw.csv\", encoding='utf8'))\n",
    "artifacts_df.set_index('id', inplace=True)\n",
    "\n",
    "for i in artifacts_df.index:\n",
    "\n",
    "  artifacts_df['td_type'][i] = artifacts_df['td_type'][i].replace(' TD','').lower().replace('defect','').replace('security','').split(',')\n",
    "  artifacts_df['tdma'][i] = artifacts_df['tdma'][i].lower().split(',')\n",
    "  artifacts_df['output_info'][i] = str(artifacts_df['output_info'][i]).lower().split(',')\n",
    "  artifacts_df['output_fmt'][i] = artifacts_df['output_fmt'][i].lower().split(',')\n",
    "  artifacts_df['input_info'][i] = artifacts_df['input_info'][i].lower().split(',')\n",
    "  artifacts_df['input_fmt'][i] = artifacts_df['input_fmt'][i].lower().split(',')\n",
    "  artifacts_df['programming_language'][i] = artifacts_df['programming_language'][i].lower().split(',')\n",
    "  artifacts_df['license_type'][i] = str(artifacts_df['license_type'][i]).lower().split(',')\n",
    "  artifacts_df['studies_citing_artifact'][i] = artifacts_df['studies_citing_artifact'][i].split(',')\n",
    "  artifacts_df['other_comments'][i] = str(artifacts_df['other_comments'][i]).split(',')\n",
    "  artifacts_df['is-integrated-description'][i] = str(artifacts_df['is-integrated-description'][i]).split('\\n')\n",
    "  artifacts_df['is-integrated-with'][i] = str(artifacts_df['is-integrated-with'][i]).split('\\n')\n",
    "  artifacts_df['is-integrated-using-interface-subtype'][i] = str(artifacts_df['is-integrated-using-interface-subtype'][i]).split('\\n')\n",
    "  artifacts_df['interface-subtype'][i] = str(artifacts_df['interface-subtype'][i]).split('\\n')\n",
    "  artifacts_df['trigger-description'][i] = str(artifacts_df['trigger-description'][i]).split('\\n')\n",
    "\n",
    "\n",
    "\n",
    "int_types_parser = {\n",
    " '':'',\n",
    " 'id':'id',\n",
    " 'cli (standard input)': 'cli',\n",
    " 'api' : 'api',\n",
    " 'api (plugin for github)': 'api',\n",
    " 'gui (plugin for another automation artifact)': 'gui',\n",
    " 'gui': 'gui',\n",
    " 'api (integrates with ci)': 'api',\n",
    " 'gui (plugin for ide)': 'gui'\n",
    "}\n",
    "\n",
    "def to_1D(series):\n",
    " return pd.Series([x for _list in series for x in _list])\n",
    "\n",
    "def add_list_to_dict(dict_variable = None, key = None, items_list = None):\n",
    "  if key in dict_variable.keys():\n",
    "    dict_variable[key].extend(items_list)\n",
    "    dict_variable[key] = list(set(dict_variable[key]))\n",
    "  else:\n",
    "    dict_variable[key] = items_list\n",
    "  return dict_variable"
   ]
  },
  {
   "cell_type": "markdown",
   "id": "0e8bbc7c",
   "metadata": {},
   "source": [
    "## Step 2 - Recovering studies per artifact"
   ]
  },
  {
   "cell_type": "code",
   "execution_count": null,
   "id": "6a02b17c",
   "metadata": {},
   "outputs": [],
   "source": [
    "studies_df = pd.read_csv(open(\"../data/studies_dataset.csv\", encoding='utf8'))\n",
    "\n",
    "new_studies = []\n",
    "for j in artifacts_df.index:\n",
    "    n_list = []\n",
    "    for k in artifacts_df['studies_citing_artifact'][j]:\n",
    "        try:\n",
    "            index = studies_df.loc[studies_df['old_id'] == k].index.tolist()[0]\n",
    "        except:\n",
    "            pass\n",
    "    n_list.append(studies_df.at[index,'id'])\n",
    "    new_studies.append(n_list)\n",
    "artifacts_df['studies_citing_artifact'] = new_studies"
   ]
  },
  {
   "cell_type": "markdown",
   "id": "2ee5a1d9",
   "metadata": {},
   "source": [
    "## Step 3 - Retrieving artifact's first citation year"
   ]
  },
  {
   "cell_type": "code",
   "execution_count": null,
   "id": "d0fb64e5",
   "metadata": {},
   "outputs": [],
   "source": [
    "artifacts_df['first_citation'] = '-'\n",
    "for i in artifacts_df.index:\n",
    "    years = set([studies_df['year'][x] for x in studies_df.index if studies_df['id'][x] in artifacts_df['studies_citing_artifact'][i]])\n",
    "    artifacts_df['first_citation'][i] = min(years)"
   ]
  },
  {
   "cell_type": "markdown",
   "id": "713a0e08",
   "metadata": {},
   "source": [
    "## Step 4 - Storing Json file"
   ]
  },
  {
   "cell_type": "code",
   "execution_count": null,
   "id": "dae94d06",
   "metadata": {},
   "outputs": [],
   "source": [
    "#Storing dataset in a JSON file\n",
    "\n",
    "result = artifacts_df.to_json(orient='index')\n",
    "json_raw = json.loads(result)\n",
    "with open('../data/Step1_artifacts.json', 'w') as f:\n",
    "    json.dump(json_raw,f)"
   ]
  },
  {
   "cell_type": "code",
   "execution_count": null,
   "id": "18600d1b",
   "metadata": {},
   "outputs": [],
   "source": []
  }
 ],
 "metadata": {
  "kernelspec": {
   "display_name": "Python 3 (ipykernel)",
   "language": "python",
   "name": "python3"
  },
  "language_info": {
   "codemirror_mode": {
    "name": "ipython",
    "version": 3
   },
   "file_extension": ".py",
   "mimetype": "text/x-python",
   "name": "python",
   "nbconvert_exporter": "python",
   "pygments_lexer": "ipython3",
   "version": "3.10.0"
  }
 },
 "nbformat": 4,
 "nbformat_minor": 5
}
