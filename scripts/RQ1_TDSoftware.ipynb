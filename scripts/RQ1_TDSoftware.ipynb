{
 "cells": [
  {
   "cell_type": "markdown",
   "id": "2ddd64c3",
   "metadata": {},
   "source": [
    "# RQ1 - What software artifacts are available for the automation of TD management?"
   ]
  },
  {
   "cell_type": "code",
   "execution_count": 15,
   "id": "2b5324c1",
   "metadata": {
    "tags": []
   },
   "outputs": [],
   "source": [
    "import pandas as pd\n",
    "import numpy as np\n",
    "import matplotlib.pyplot as plt\n",
    "\n",
    "\n",
    "path = '../data/Step1_artifacts.json'\n",
    "\n",
    "artifacts_df = pd.read_json(path, orient='index')\n",
    "\n",
    "tdma_list = ['repayment',\n",
    "            'monitoring',\n",
    "            'measurement',\n",
    "            'identification',\n",
    "            'communication',\n",
    "            'prevention',\n",
    "            'priorization',\n",
    "            'representation/documentation']\n",
    "\n",
    "td_types_list = ['code',\n",
    "                 'design',\n",
    "                 'architectural',\n",
    "                 'test',\n",
    "                 'documentation',\n",
    "                 'requirements',\n",
    "                 'build',\n",
    "                 'infrastructure',\n",
    "                 'versioning',\n",
    "                 'satd']\n",
    "\n",
    "def to_1D(series):\n",
    " return pd.Series([x for _list in series for x in _list])"
   ]
  },
  {
   "cell_type": "markdown",
   "id": "a9b6304b",
   "metadata": {},
   "source": [
    "### RQ1.1 - What is the type of software of the artifact (e.g., script, tool, library)?"
   ]
  },
  {
   "cell_type": "code",
   "execution_count": 2,
   "id": "ed3858d4",
   "metadata": {
    "tags": []
   },
   "outputs": [
    {
     "data": {
      "text/html": [
       "<div>\n",
       "<style scoped>\n",
       "    .dataframe tbody tr th:only-of-type {\n",
       "        vertical-align: middle;\n",
       "    }\n",
       "\n",
       "    .dataframe tbody tr th {\n",
       "        vertical-align: top;\n",
       "    }\n",
       "\n",
       "    .dataframe thead th {\n",
       "        text-align: right;\n",
       "    }\n",
       "</style>\n",
       "<table border=\"1\" class=\"dataframe\">\n",
       "  <thead>\n",
       "    <tr style=\"text-align: right;\">\n",
       "      <th></th>\n",
       "      <th>name</th>\n",
       "    </tr>\n",
       "    <tr>\n",
       "      <th>type</th>\n",
       "      <th></th>\n",
       "    </tr>\n",
       "  </thead>\n",
       "  <tbody>\n",
       "    <tr>\n",
       "      <th>tool</th>\n",
       "      <td>57</td>\n",
       "    </tr>\n",
       "    <tr>\n",
       "      <th>plugin</th>\n",
       "      <td>38</td>\n",
       "    </tr>\n",
       "    <tr>\n",
       "      <th>script</th>\n",
       "      <td>22</td>\n",
       "    </tr>\n",
       "    <tr>\n",
       "      <th>bot</th>\n",
       "      <td>4</td>\n",
       "    </tr>\n",
       "  </tbody>\n",
       "</table>\n",
       "</div>"
      ],
      "text/plain": [
       "        name\n",
       "type        \n",
       "tool      57\n",
       "plugin    38\n",
       "script    22\n",
       "bot        4"
      ]
     },
     "execution_count": 2,
     "metadata": {},
     "output_type": "execute_result"
    }
   ],
   "source": [
    "#Software Types\n",
    "artifacts_df.loc[:,['type', 'name']].groupby('type').count().sort_values(by='name', ascending=False)"
   ]
  },
  {
   "cell_type": "code",
   "execution_count": 3,
   "id": "c39bf1c8",
   "metadata": {
    "tags": []
   },
   "outputs": [
    {
     "data": {
      "text/plain": [
       "22"
      ]
     },
     "execution_count": 3,
     "metadata": {},
     "output_type": "execute_result"
    }
   ],
   "source": [
    "# Number of plugins that are versions of tools\n",
    "values = artifacts_df.loc[:,['type', 'name']].groupby('name').count()\n",
    "len(values.loc[values['type'] > 1])"
   ]
  },
  {
   "cell_type": "markdown",
   "id": "534ffe45",
   "metadata": {},
   "source": [
    "### RQ1.2 - What are the inputs and outputs of the artifact?"
   ]
  },
  {
   "cell_type": "code",
   "execution_count": 4,
   "id": "780774ee",
   "metadata": {
    "tags": []
   },
   "outputs": [
    {
     "data": {
      "image/png": "[encoded data removed]",
      "text/plain": [
       "<Figure size 500x400 with 1 Axes>"
      ]
     },
     "metadata": {},
     "output_type": "display_data"
    }
   ],
   "source": [
    "input_info = to_1D(artifacts_df['input_info']).value_counts()\n",
    "\n",
    "width = 0.25\n",
    "x_pos = [0 + (2* x * width) for x in range(len(input_info))]\n",
    "\n",
    "plt.rcParams[\"figure.figsize\"] = (5,4)\n",
    "fig, ax = plt.subplots(layout='tight')\n",
    "ax.bar(x_pos, height=input_info, width = width, color = 'grey')\n",
    "\n",
    "ax.spines['top'].set_visible(False)\n",
    "ax.spines['right'].set_visible(False)\n",
    "ax.spines['bottom'].set_visible(True)\n",
    "ax.spines['left'].set_visible(False)\n",
    "\n",
    "scale = 30\n",
    "\n",
    "ax.set_ylim([0,scale])\n",
    "ax.set_yticks([])\n",
    "\n",
    "for index, value in enumerate(input_info):\n",
    "    if value > 100:\n",
    "        factor = 0.5\n",
    "    elif value > 10:\n",
    "        factor = 0.32\n",
    "    else:\n",
    "        factor = 0.2\n",
    "        \n",
    "    ax.text(x_pos[index] - factor * width, value + 1 if value <= scale else scale + 1,\n",
    "             str(value))\n",
    "\n",
    "plt.xticks(x_pos, input_info.index, rotation=30, ha='right')\n",
    "plt.savefig('../figures/rq1-inuput-info.pdf', bbox_inches='tight')"
   ]
  },
  {
   "cell_type": "code",
   "execution_count": 5,
   "id": "4da4a0f9",
   "metadata": {
    "tags": []
   },
   "outputs": [
    {
     "data": {
      "image/png": "[encoded data removed]",
      "text/plain": [
       "<Figure size 500x400 with 1 Axes>"
      ]
     },
     "metadata": {},
     "output_type": "display_data"
    }
   ],
   "source": [
    "input_format = to_1D(artifacts_df['input_fmt']).value_counts()\n",
    "width = 0.25\n",
    "x_pos = [0 + (2* x * width) for x in range(len(input_format))]\n",
    "\n",
    "plt.rcParams[\"figure.figsize\"] = (5,4)\n",
    "fig, ax = plt.subplots(layout='tight')\n",
    "ax.bar(x_pos, height=input_format, width = width, color = 'grey')\n",
    "\n",
    "ax.spines['top'].set_visible(False)\n",
    "ax.spines['right'].set_visible(False)\n",
    "ax.spines['bottom'].set_visible(True)\n",
    "ax.spines['left'].set_visible(False)\n",
    "\n",
    "scale = 30\n",
    "\n",
    "ax.set_ylim([0,scale])\n",
    "ax.set_yticks([])\n",
    "\n",
    "for index, value in enumerate(input_format):\n",
    "    if value > 100:\n",
    "        factor = 0.5\n",
    "    elif value > 10:\n",
    "        factor = 0.32\n",
    "    else:\n",
    "        factor = 0.2\n",
    "        \n",
    "    ax.text(x_pos[index] - factor * width, value + 1 if value <= scale else scale + 1,\n",
    "             str(value))\n",
    "\n",
    "    \n",
    "fmts = ['source code', 'json', 'csv', 'uml', 'graphml', 'sql', 'issues', 'xml']    \n",
    "plt.xticks(x_pos, fmts, rotation=30, ha='right')\n",
    "plt.savefig('../figures/rq1-inuput-fmt.pdf', bbox_inches='tight')"
   ]
  },
  {
   "cell_type": "code",
   "execution_count": 16,
   "id": "c0449b05",
   "metadata": {
    "tags": []
   },
   "outputs": [
    {
     "name": "stdout",
     "output_type": "stream",
     "text": [
      "code violations                43\n",
      "code metrics                   34\n",
      "code smells                    28\n",
      "amount of technical debt       15\n",
      "self-admitted td items         14\n",
      "architectural smells           14\n",
      "design smells                  12\n",
      "refactoring suggestions        10\n",
      "test coverage                   3\n",
      "code duplications               3\n",
      "maintainability index           3\n",
      "amount of interest              2\n",
      "td items                        2\n",
      "design metrics                  2\n",
      "cyclomatic complexity           2\n",
      "refactoring actions             1\n",
      "dependencies                    1\n",
      "configuration smells            1\n",
      "values for each refactoring     1\n",
      "database smells                 1\n",
      "quality level                   1\n",
      "break changes in libraries      1\n",
      "architectural td index          1\n",
      "dependency graph                1\n",
      "metrics reports                 1\n",
      "security issues                 1\n",
      "Name: count, dtype: int64\n"
     ]
    }
   ],
   "source": [
    "#Output Info\n",
    "output_info = to_1D(artifacts_df['output_info']).value_counts()\n",
    "pd.DataFrame(output_info.items(), columns=['output-info','n-artifacts']).to_csv('../data/rq1-output-infos.csv')\n",
    "print(output_info)"
   ]
  },
  {
   "cell_type": "code",
   "execution_count": 17,
   "id": "2b9a892c-6a19-401b-ae20-a3e7815f1bff",
   "metadata": {},
   "outputs": [
    {
     "data": {
      "text/plain": [
       "26"
      ]
     },
     "execution_count": 17,
     "metadata": {},
     "output_type": "execute_result"
    }
   ],
   "source": [
    "len(output_info)"
   ]
  },
  {
   "cell_type": "code",
   "execution_count": 18,
   "id": "eb72c030",
   "metadata": {
    "tags": []
   },
   "outputs": [
    {
     "name": "stdout",
     "output_type": "stream",
     "text": [
      "text                                   37\n",
      "xml                                    28\n",
      "csv                                    26\n",
      "json                                   25\n",
      "html                                   22\n",
      "pull requests                           5\n",
      "pdf                                     3\n",
      "database(sql)                           3\n",
      "runs inside ide                         2\n",
      "database (sql)                          2\n",
      "excel                                   2\n",
      "github                                  1\n",
      "gitlab                                  1\n",
      "software refactored and new metrics     1\n",
      "no output                               1\n",
      "sarif                                   1\n",
      "not informed                            1\n",
      "jira/github issues                      1\n",
      "comment                                 1\n",
      "inside eclipse                          1\n",
      "integrates with ide                     1\n",
      "pull request report                     1\n",
      "source code level via api               1\n",
      "source code                             1\n",
      "sonarqube-issues                        1\n",
      "issues                                  1\n",
      "api                                     1\n",
      "markdown                                1\n",
      "dependecy graph                         1\n",
      "github issues                           1\n",
      "Name: count, dtype: int64\n"
     ]
    }
   ],
   "source": [
    "#Output Formats\n",
    "output_fmts = to_1D(artifacts_df['output_fmt']).value_counts()\n",
    "pd.DataFrame(output_fmts.items(), columns=['output-fmt','n-artifacts']).to_csv('../data/rq1-output-fmts.csv')\n",
    "print(output_fmts)"
   ]
  },
  {
   "cell_type": "markdown",
   "id": "f9241821",
   "metadata": {},
   "source": [
    "### RQ1.3 - Which is the maturity level of the software artifact?"
   ]
  },
  {
   "cell_type": "code",
   "execution_count": null,
   "id": "d0d36227",
   "metadata": {
    "tags": []
   },
   "outputs": [],
   "source": [
    "# Maturity\n",
    "artifacts_df.loc[:,['maturity', 'name']].groupby(['maturity']).count()"
   ]
  },
  {
   "cell_type": "code",
   "execution_count": null,
   "id": "25d03cc7",
   "metadata": {},
   "outputs": [],
   "source": [
    "#Maturity x TD Type\n",
    "artifacts_df.loc[:,['maturity', 'name', 'type']].groupby(['type', 'maturity']).count()"
   ]
  },
  {
   "cell_type": "code",
   "execution_count": null,
   "id": "95a3c49f",
   "metadata": {
    "tags": []
   },
   "outputs": [],
   "source": [
    "# Maturity x Input Format\n",
    "input_format = set([x for i in artifacts_df.index for x in artifacts_df['input_info'][i]])"
   ]
  },
  {
   "cell_type": "code",
   "execution_count": null,
   "id": "217413fc",
   "metadata": {
    "tags": []
   },
   "outputs": [],
   "source": [
    "for x in input_format:\n",
    "    maturity = {\n",
    "    'Examples':0,\n",
    "    'Academic Studies':0,\n",
    "    'Industrial Studies':0,\n",
    "    'Industrial Applications':0\n",
    "    }\n",
    "    \n",
    "    for i in artifacts_df.index:\n",
    "        if x in artifacts_df['input_info'][i]:\n",
    "            maturity[artifacts_df['maturity'][i]] += 1\n",
    "    print(f'{x} : {maturity}')"
   ]
  }
 ],
 "metadata": {
  "kernelspec": {
   "display_name": "Python 3 (ipykernel)",
   "language": "python",
   "name": "python3"
  },
  "language_info": {
   "codemirror_mode": {
    "name": "ipython",
    "version": 3
   },
   "file_extension": ".py",
   "mimetype": "text/x-python",
   "name": "python",
   "nbconvert_exporter": "python",
   "pygments_lexer": "ipython3",
   "version": "3.10.0"
  }
 },
 "nbformat": 4,
 "nbformat_minor": 5
}
